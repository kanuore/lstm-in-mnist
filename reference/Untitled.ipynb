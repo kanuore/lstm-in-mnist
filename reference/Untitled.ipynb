{
 "cells": [
  {
   "cell_type": "code",
   "execution_count": 3,
   "metadata": {},
   "outputs": [],
   "source": [
    "#coding=utf-8\n",
    "import tensorflow as tf\n",
    "from tensorflow.examples.tutorials.mnist import input_data\n",
    "import numpy as np\n",
    "import matplotlib.pyplot as plt"
   ]
  },
  {
   "cell_type": "code",
   "execution_count": 4,
   "metadata": {},
   "outputs": [
    {
     "name": "stdout",
     "output_type": "stream",
     "text": [
      "Extracting /media/lbk/ubuntu file/dataset/mnist/train-images-idx3-ubyte.gz\n",
      "Extracting /media/lbk/ubuntu file/dataset/mnist/train-labels-idx1-ubyte.gz\n",
      "Extracting /media/lbk/ubuntu file/dataset/mnist/t10k-images-idx3-ubyte.gz\n",
      "Extracting /media/lbk/ubuntu file/dataset/mnist/t10k-labels-idx1-ubyte.gz\n"
     ]
    }
   ],
   "source": [
    "mnist = input_data.read_data_sets('/media/lbk/ubuntu file/dataset/mnist/',one_hot=True)\n",
    "trainimgs,trainlabels,testimgs,testlabels \\\n",
    "    =mnist.train.images,mnist.train.labels,mnist.test.images,mnist.test.labels"
   ]
  },
  {
   "cell_type": "code",
   "execution_count": 5,
   "metadata": {
    "collapsed": true
   },
   "outputs": [],
   "source": [
    "ntrain,ntest,dim,nclasses\\\n",
    "    = trainimgs.shape[0],testimgs.shape[0],trainimgs.shape[1],trainlabels.shape[1]"
   ]
  },
  {
   "cell_type": "code",
   "execution_count": 12,
   "metadata": {},
   "outputs": [],
   "source": [
    "diminput = 28\n",
    "dimhidden = 128\n",
    "dimoutput = nclasses\n",
    "nsteps = 28\n",
    "# 不是一层里面的，对应两层\n",
    "weights = {\n",
    "    'hidden': tf.Variable(tf.random_normal([diminput,dimhidden])),\n",
    "    'out': tf.Variable(tf.random_normal([dimhidden,dimoutput]))\n",
    "}\n",
    "biases = {\n",
    "    'hidden': tf.Variable(tf.random_normal([dimhidden])),\n",
    "    'out': tf.Variable(tf.random_normal([dimoutput]))\n",
    "}"
   ]
  },
  {
   "cell_type": "code",
   "execution_count": 32,
   "metadata": {},
   "outputs": [
    {
     "name": "stdout",
     "output_type": "stream",
     "text": [
      "ready\n"
     ]
    }
   ],
   "source": [
    "def _RNN(_X,_W,_b,_nsteps,_name):\n",
    "    #[batch,h,w,1(c)] named [batch,nsteps,diminput]\n",
    "    #==>[nsteps,batchsize,diminput]\n",
    "    _X = tf.transpose(_X,[1,0,2])\n",
    "    #==>[nsteps*batch,diminput]\n",
    "    _X = tf.reshape(_X,[-1,diminput])\n",
    "    #一个整体运算,相当于batch*w*h整体卷积\n",
    "    _H = tf.matmul(_X,_W['hidden']) + _b['hidden']\n",
    "    #切分乘nestep个序列\n",
    "    _Hsplit = tf.split(_H,_nsteps,0)\n",
    "    #lstm\n",
    "    with tf.variable_scope(_name) as scope:\n",
    "        scope.reuse_variables()\n",
    "        lstm_cell = tf.nn.rnn_cell.BasicLSTMCell(dimhidden,forget_bias=1.0)\n",
    "        #\n",
    "        _LSTM_O,_LSTM_S = tf.nn.static_rnn(lstm_cell,_Hsplit,dtype=tf.float32)\n",
    "    #output\n",
    "    _O = tf.matmul(_LSTM_O[-1],_W['out']) + _b['out']\n",
    "    return {\n",
    "        'X':_X,'H':_H,'Hsplit':_Hsplit,'LSTM_O':_LSTM_O,'LSTM_S':_LSTM_S,'O':_O\n",
    "    }\n",
    "print 'ready'"
   ]
  },
  {
   "cell_type": "code",
   "execution_count": 34,
   "metadata": {},
   "outputs": [],
   "source": [
    "learning_rate = 0.001\n",
    "x = tf.placeholder('float',[None,nsteps,diminput])\n",
    "y = tf.placeholder('float',[None,dimoutput])\n",
    "\n",
    "myrnn = _RNN(x,weights,biases,nsteps,'basic')\n",
    "pred = myrnn['O']\n",
    "cost = tf.reduce_mean(tf.nn.softmax_cross_entropy_with_logits(logits = pred,labels = y))\n",
    "optm = tf.train.GradientDescentOptimizer(learning_rate).minimize(cost)\n",
    "acc = tf.reduce_mean(tf.cast(tf.equal(tf.argmax(pred,1),tf.argmax(y,1)),tf.float32))\n",
    "\n",
    "init = tf.global_variables_initializer()\n"
   ]
  },
  {
   "cell_type": "code",
   "execution_count": 35,
   "metadata": {},
   "outputs": [
    {
     "name": "stdout",
     "output_type": "stream",
     "text": [
      "start\n",
      "epoch:000/005 cost:1.629186481\n",
      "epoch:001/005 cost:1.147092171\n",
      "epoch:002/005 cost:0.949910490\n",
      "epoch:003/005 cost:0.867408370\n",
      "epoch:004/005 cost:0.776862026\n"
     ]
    }
   ],
   "source": [
    "training_epochs = 5\n",
    "batch_size = 16\n",
    "display_step = 1\n",
    "sess = tf.Session()\n",
    "sess.run(init)\n",
    "\n",
    "print 'start'\n",
    "\n",
    "for epoch in range(training_epochs):\n",
    "    avg_cost = 0\n",
    "    total_batch = 100\n",
    "    for i in range(total_batch):\n",
    "        batch_xs,batch_ys = mnist.train.next_batch(batch_size)\n",
    "        batch_xs = batch_xs.reshape((batch_size,nsteps,diminput))\n",
    "        \n",
    "        feeds = {x:batch_xs,y:batch_ys}\n",
    "        sess.run(optm,feed_dict=feeds)\n",
    "        avg_cost += sess.run(cost, feed_dict=feeds)/total_batch\n",
    "        \n",
    "    print('epoch:%03d/%03d cost:%.9f'%(epoch,training_epochs,avg_cost))"
   ]
  },
  {
   "cell_type": "code",
   "execution_count": null,
   "metadata": {
    "collapsed": true
   },
   "outputs": [],
   "source": []
  }
 ],
 "metadata": {
  "kernelspec": {
   "display_name": "Python 2",
   "language": "python",
   "name": "python2"
  },
  "language_info": {
   "codemirror_mode": {
    "name": "ipython",
    "version": 2
   },
   "file_extension": ".py",
   "mimetype": "text/x-python",
   "name": "python",
   "nbconvert_exporter": "python",
   "pygments_lexer": "ipython2",
   "version": "2.7.13"
  }
 },
 "nbformat": 4,
 "nbformat_minor": 2
}
